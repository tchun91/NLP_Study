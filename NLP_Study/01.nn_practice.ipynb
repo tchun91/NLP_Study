{
 "cells": [
  {
   "cell_type": "markdown",
   "id": "3388d5d4-2373-4661-93ad-e6ee95550670",
   "metadata": {},
   "source": [
    "#### Forward Propagation:\n",
    "\n",
    "1. **Input Layer:**\n",
    "   - Input features: $ x = [x_1, x_2, ..., x_n] $\n",
    "   \n",
    "2. **Hidden Layer:**\n",
    "   - Linear transformation: $ z = W_1 \\cdot x + b_1 $\n",
    "   - Activation function (e.g., ReLU): $ h = \\text{ReLU}(z) $\n",
    "\n",
    "3. **Output Layer:**\n",
    "   - Linear transformation: $ y = W_2 \\cdot h + b_2 $\n",
    "   - Activation function (e.g., Sigmoid for binary classification): $ \\hat{y} = \\text{Sigmoid}(y) $\n",
    "   \n",
    "   \n",
    "#### Backward Propagation (Gradient Descent):\n",
    "\n",
    "1. **Compute Loss:**\n",
    "   - Compute the loss between predicted ($ \\hat{y} $) and actual ($ y_{\\text{true}} $) outputs using a loss function $ L(\\hat{y}, y_{\\text{true}}) $.\n",
    "   \n",
    "2. **Compute Gradients:**\n",
    "   - Compute the gradient of the loss with respect to the output layer parameters:\n",
    "     $ \\frac{\\partial L}{\\partial W_2} = \\frac{\\partial L}{\\partial \\hat{y}} \\cdot \\frac{\\partial \\hat{y}}{\\partial y} \\cdot \\frac{\\partial y}{\\partial W_2} $\n",
    "     $ \\frac{\\partial L}{\\partial b_2} = \\frac{\\partial L}{\\partial \\hat{y}} \\cdot \\frac{\\partial \\hat{y}}{\\partial y} \\cdot \\frac{\\partial y}{\\partial b_2} $\n",
    "   - Compute the gradient of the loss with respect to the hidden layer parameters:\n",
    "     $ \\frac{\\partial L}{\\partial W_1} = \\frac{\\partial L}{\\partial \\hat{y}} \\cdot \\frac{\\partial \\hat{y}}{\\partial y} \\cdot \\frac{\\partial y}{\\partial h} \\cdot \\frac{\\partial h}{\\partial z} \\cdot \\frac{\\partial z}{\\partial W_1} $\n",
    "     $ \\frac{\\partial L}{\\partial b_1} = \\frac{\\partial L}{\\partial \\hat{y}} \\cdot \\frac{\\partial \\hat{y}}{\\partial y} \\cdot \\frac{\\partial y}{\\partial h} \\cdot \\frac{\\partial h}{\\partial z} \\cdot \\frac{\\partial z}{\\partial b_1} $\n",
    "\n",
    "3. **Update Parameters:**\n",
    "   - Update the parameters using gradient descent:\n",
    "     $ W_1 := W_1 - \\alpha \\frac{\\partial L}{\\partial W_1} $\n",
    "     $ b_1 := b_1 - \\alpha \\frac{\\partial L}{\\partial b_1} $\n",
    "     $ W_2 := W_2 - \\alpha \\frac{\\partial L}{\\partial W_2} $\n",
    "     $ b_2 := b_2 - \\alpha \\frac{\\partial L}{\\partial b_2} $\n",
    "   where $ \\alpha $ is the learning rate."
   ]
  },
  {
   "cell_type": "markdown",
   "id": "031c9947-0b71-4ec4-b1fb-25b7091c0a7b",
   "metadata": {
    "tags": []
   },
   "source": [
    "# L1 and L2 - Regularization techniques applied to backward propagation to restrict.\n",
    "## $ L1 $ Regularization (Lasso Regression) When:\n",
    "\n",
    "- You suspect that many features are irrelevant or redundant, and you want the model to perform feature selection by driving the coefficients of irrelevant features to zero.\n",
    "- You want a more interpretable model that only includes a subset of the most relevant features.\n",
    "- You want to reduce the complexity of the model by encouraging sparsity.\n",
    "\n",
    "The $ L1 $ regularization term adds a penalty to the cost function proportional to the absolute value of the coefficients' magnitude. It encourages sparsity in the model by driving some of the coefficients to zero, effectively performing feature selection. The resulting optimization problem becomes:\n",
    "\n",
    "$ \\text{Cost} = \\text{Original Cost} + \\lambda \\sum_{i=1}^{n} |w_i| $\n",
    "\n",
    "Where:\n",
    "- $ \\text{Original Cost} $ is the original cost function (e.g., mean squared error).\n",
    "- $ \\lambda $ is the regularization parameter controlling the strength of the penalty.\n",
    "- $ w_i $ are the model coefficients.\n",
    "\n",
    "## $ L2 $ Regularization (Ridge Regression) When:\n",
    "\n",
    "- You believe that all features are potentially useful, but you want to mitigate the impact of multicollinearity (high correlation among features) by reducing the magnitude of large coefficients.\n",
    "- You prioritize predictive accuracy over model interpretability.\n",
    "- You want to prevent overfitting by penalizing large coefficients without necessarily eliminating any features.\n",
    "\n",
    "The $ L2 $ regularization term adds a penalty to the cost function proportional to the square of the coefficients' magnitude. It doesn't lead to sparsity but instead penalizes large coefficients, effectively reducing their impact on the model. The resulting optimization problem becomes:\n",
    "\n",
    "$ \\text{Cost} = \\text{Original Cost} + \\lambda \\sum_{i=1}^{n} w_i^2 $\n",
    "\n",
    "Where:\n",
    "- $ \\text{Original Cost} $ is the original cost function (e.g., mean squared error).\n",
    "- $ \\lambda $ is the regularization parameter controlling the strength of the penalty.\n"
   ]
  },
  {
   "cell_type": "markdown",
   "id": "3eee97d5-b1c1-4881-95b7-dc9f91a752f2",
   "metadata": {},
   "source": []
  },
  {
   "cell_type": "code",
   "execution_count": 1,
   "id": "50d048b9-2b20-4952-ab04-134b27fd6c9d",
   "metadata": {},
   "outputs": [
    {
     "name": "stderr",
     "output_type": "stream",
     "text": [
      "/Users/tchun/opt/anaconda3/envs/carparts/lib/python3.9/site-packages/tqdm/auto.py:22: TqdmWarning: IProgress not found. Please update jupyter and ipywidgets. See https://ipywidgets.readthedocs.io/en/stable/user_install.html\n",
      "  from .autonotebook import tqdm as notebook_tqdm\n"
     ]
    }
   ],
   "source": [
    "import torch"
   ]
  },
  {
   "cell_type": "code",
   "execution_count": 2,
   "id": "ddc47b10-6a0a-44a5-9759-ee0f19728a08",
   "metadata": {},
   "outputs": [],
   "source": [
    "import numpy as np\n",
    "\n",
    "import torch.nn as nn\n",
    "import torch.optim as optim"
   ]
  },
  {
   "cell_type": "code",
   "execution_count": 3,
   "id": "349a9abb-d98b-4c81-9d58-1e347fc3ada8",
   "metadata": {},
   "outputs": [],
   "source": [
    "import pandas as pd"
   ]
  },
  {
   "cell_type": "code",
   "execution_count": 4,
   "id": "26a1f293-0836-405a-b766-de53216b7949",
   "metadata": {},
   "outputs": [],
   "source": [
    "df = pd.read_csv('survey lung cancer.csv')"
   ]
  },
  {
   "cell_type": "code",
   "execution_count": 5,
   "id": "64aa37e0-a806-46dd-adef-7979adc4ce46",
   "metadata": {},
   "outputs": [
    {
     "data": {
      "text/html": [
       "<div>\n",
       "<style scoped>\n",
       "    .dataframe tbody tr th:only-of-type {\n",
       "        vertical-align: middle;\n",
       "    }\n",
       "\n",
       "    .dataframe tbody tr th {\n",
       "        vertical-align: top;\n",
       "    }\n",
       "\n",
       "    .dataframe thead th {\n",
       "        text-align: right;\n",
       "    }\n",
       "</style>\n",
       "<table border=\"1\" class=\"dataframe\">\n",
       "  <thead>\n",
       "    <tr style=\"text-align: right;\">\n",
       "      <th></th>\n",
       "      <th>GENDER</th>\n",
       "      <th>AGE</th>\n",
       "      <th>SMOKING</th>\n",
       "      <th>YELLOW_FINGERS</th>\n",
       "      <th>ANXIETY</th>\n",
       "      <th>PEER_PRESSURE</th>\n",
       "      <th>CHRONIC DISEASE</th>\n",
       "      <th>FATIGUE</th>\n",
       "      <th>ALLERGY</th>\n",
       "      <th>WHEEZING</th>\n",
       "      <th>ALCOHOL CONSUMING</th>\n",
       "      <th>COUGHING</th>\n",
       "      <th>SHORTNESS OF BREATH</th>\n",
       "      <th>SWALLOWING DIFFICULTY</th>\n",
       "      <th>CHEST PAIN</th>\n",
       "      <th>LUNG_CANCER</th>\n",
       "    </tr>\n",
       "  </thead>\n",
       "  <tbody>\n",
       "    <tr>\n",
       "      <th>0</th>\n",
       "      <td>M</td>\n",
       "      <td>69</td>\n",
       "      <td>1</td>\n",
       "      <td>2</td>\n",
       "      <td>2</td>\n",
       "      <td>1</td>\n",
       "      <td>1</td>\n",
       "      <td>2</td>\n",
       "      <td>1</td>\n",
       "      <td>2</td>\n",
       "      <td>2</td>\n",
       "      <td>2</td>\n",
       "      <td>2</td>\n",
       "      <td>2</td>\n",
       "      <td>2</td>\n",
       "      <td>YES</td>\n",
       "    </tr>\n",
       "    <tr>\n",
       "      <th>1</th>\n",
       "      <td>M</td>\n",
       "      <td>74</td>\n",
       "      <td>2</td>\n",
       "      <td>1</td>\n",
       "      <td>1</td>\n",
       "      <td>1</td>\n",
       "      <td>2</td>\n",
       "      <td>2</td>\n",
       "      <td>2</td>\n",
       "      <td>1</td>\n",
       "      <td>1</td>\n",
       "      <td>1</td>\n",
       "      <td>2</td>\n",
       "      <td>2</td>\n",
       "      <td>2</td>\n",
       "      <td>YES</td>\n",
       "    </tr>\n",
       "    <tr>\n",
       "      <th>2</th>\n",
       "      <td>F</td>\n",
       "      <td>59</td>\n",
       "      <td>1</td>\n",
       "      <td>1</td>\n",
       "      <td>1</td>\n",
       "      <td>2</td>\n",
       "      <td>1</td>\n",
       "      <td>2</td>\n",
       "      <td>1</td>\n",
       "      <td>2</td>\n",
       "      <td>1</td>\n",
       "      <td>2</td>\n",
       "      <td>2</td>\n",
       "      <td>1</td>\n",
       "      <td>2</td>\n",
       "      <td>NO</td>\n",
       "    </tr>\n",
       "    <tr>\n",
       "      <th>3</th>\n",
       "      <td>M</td>\n",
       "      <td>63</td>\n",
       "      <td>2</td>\n",
       "      <td>2</td>\n",
       "      <td>2</td>\n",
       "      <td>1</td>\n",
       "      <td>1</td>\n",
       "      <td>1</td>\n",
       "      <td>1</td>\n",
       "      <td>1</td>\n",
       "      <td>2</td>\n",
       "      <td>1</td>\n",
       "      <td>1</td>\n",
       "      <td>2</td>\n",
       "      <td>2</td>\n",
       "      <td>NO</td>\n",
       "    </tr>\n",
       "    <tr>\n",
       "      <th>4</th>\n",
       "      <td>F</td>\n",
       "      <td>63</td>\n",
       "      <td>1</td>\n",
       "      <td>2</td>\n",
       "      <td>1</td>\n",
       "      <td>1</td>\n",
       "      <td>1</td>\n",
       "      <td>1</td>\n",
       "      <td>1</td>\n",
       "      <td>2</td>\n",
       "      <td>1</td>\n",
       "      <td>2</td>\n",
       "      <td>2</td>\n",
       "      <td>1</td>\n",
       "      <td>1</td>\n",
       "      <td>NO</td>\n",
       "    </tr>\n",
       "    <tr>\n",
       "      <th>...</th>\n",
       "      <td>...</td>\n",
       "      <td>...</td>\n",
       "      <td>...</td>\n",
       "      <td>...</td>\n",
       "      <td>...</td>\n",
       "      <td>...</td>\n",
       "      <td>...</td>\n",
       "      <td>...</td>\n",
       "      <td>...</td>\n",
       "      <td>...</td>\n",
       "      <td>...</td>\n",
       "      <td>...</td>\n",
       "      <td>...</td>\n",
       "      <td>...</td>\n",
       "      <td>...</td>\n",
       "      <td>...</td>\n",
       "    </tr>\n",
       "    <tr>\n",
       "      <th>304</th>\n",
       "      <td>F</td>\n",
       "      <td>56</td>\n",
       "      <td>1</td>\n",
       "      <td>1</td>\n",
       "      <td>1</td>\n",
       "      <td>2</td>\n",
       "      <td>2</td>\n",
       "      <td>2</td>\n",
       "      <td>1</td>\n",
       "      <td>1</td>\n",
       "      <td>2</td>\n",
       "      <td>2</td>\n",
       "      <td>2</td>\n",
       "      <td>2</td>\n",
       "      <td>1</td>\n",
       "      <td>YES</td>\n",
       "    </tr>\n",
       "    <tr>\n",
       "      <th>305</th>\n",
       "      <td>M</td>\n",
       "      <td>70</td>\n",
       "      <td>2</td>\n",
       "      <td>1</td>\n",
       "      <td>1</td>\n",
       "      <td>1</td>\n",
       "      <td>1</td>\n",
       "      <td>2</td>\n",
       "      <td>2</td>\n",
       "      <td>2</td>\n",
       "      <td>2</td>\n",
       "      <td>2</td>\n",
       "      <td>2</td>\n",
       "      <td>1</td>\n",
       "      <td>2</td>\n",
       "      <td>YES</td>\n",
       "    </tr>\n",
       "    <tr>\n",
       "      <th>306</th>\n",
       "      <td>M</td>\n",
       "      <td>58</td>\n",
       "      <td>2</td>\n",
       "      <td>1</td>\n",
       "      <td>1</td>\n",
       "      <td>1</td>\n",
       "      <td>1</td>\n",
       "      <td>1</td>\n",
       "      <td>2</td>\n",
       "      <td>2</td>\n",
       "      <td>2</td>\n",
       "      <td>2</td>\n",
       "      <td>1</td>\n",
       "      <td>1</td>\n",
       "      <td>2</td>\n",
       "      <td>YES</td>\n",
       "    </tr>\n",
       "    <tr>\n",
       "      <th>307</th>\n",
       "      <td>M</td>\n",
       "      <td>67</td>\n",
       "      <td>2</td>\n",
       "      <td>1</td>\n",
       "      <td>2</td>\n",
       "      <td>1</td>\n",
       "      <td>1</td>\n",
       "      <td>2</td>\n",
       "      <td>2</td>\n",
       "      <td>1</td>\n",
       "      <td>2</td>\n",
       "      <td>2</td>\n",
       "      <td>2</td>\n",
       "      <td>1</td>\n",
       "      <td>2</td>\n",
       "      <td>YES</td>\n",
       "    </tr>\n",
       "    <tr>\n",
       "      <th>308</th>\n",
       "      <td>M</td>\n",
       "      <td>62</td>\n",
       "      <td>1</td>\n",
       "      <td>1</td>\n",
       "      <td>1</td>\n",
       "      <td>2</td>\n",
       "      <td>1</td>\n",
       "      <td>2</td>\n",
       "      <td>2</td>\n",
       "      <td>2</td>\n",
       "      <td>2</td>\n",
       "      <td>1</td>\n",
       "      <td>1</td>\n",
       "      <td>2</td>\n",
       "      <td>1</td>\n",
       "      <td>YES</td>\n",
       "    </tr>\n",
       "  </tbody>\n",
       "</table>\n",
       "<p>309 rows × 16 columns</p>\n",
       "</div>"
      ],
      "text/plain": [
       "    GENDER  AGE  SMOKING  YELLOW_FINGERS  ANXIETY  PEER_PRESSURE  \\\n",
       "0        M   69        1               2        2              1   \n",
       "1        M   74        2               1        1              1   \n",
       "2        F   59        1               1        1              2   \n",
       "3        M   63        2               2        2              1   \n",
       "4        F   63        1               2        1              1   \n",
       "..     ...  ...      ...             ...      ...            ...   \n",
       "304      F   56        1               1        1              2   \n",
       "305      M   70        2               1        1              1   \n",
       "306      M   58        2               1        1              1   \n",
       "307      M   67        2               1        2              1   \n",
       "308      M   62        1               1        1              2   \n",
       "\n",
       "     CHRONIC DISEASE  FATIGUE   ALLERGY   WHEEZING  ALCOHOL CONSUMING  \\\n",
       "0                  1         2         1         2                  2   \n",
       "1                  2         2         2         1                  1   \n",
       "2                  1         2         1         2                  1   \n",
       "3                  1         1         1         1                  2   \n",
       "4                  1         1         1         2                  1   \n",
       "..               ...       ...       ...       ...                ...   \n",
       "304                2         2         1         1                  2   \n",
       "305                1         2         2         2                  2   \n",
       "306                1         1         2         2                  2   \n",
       "307                1         2         2         1                  2   \n",
       "308                1         2         2         2                  2   \n",
       "\n",
       "     COUGHING  SHORTNESS OF BREATH  SWALLOWING DIFFICULTY  CHEST PAIN  \\\n",
       "0           2                    2                      2           2   \n",
       "1           1                    2                      2           2   \n",
       "2           2                    2                      1           2   \n",
       "3           1                    1                      2           2   \n",
       "4           2                    2                      1           1   \n",
       "..        ...                  ...                    ...         ...   \n",
       "304         2                    2                      2           1   \n",
       "305         2                    2                      1           2   \n",
       "306         2                    1                      1           2   \n",
       "307         2                    2                      1           2   \n",
       "308         1                    1                      2           1   \n",
       "\n",
       "    LUNG_CANCER  \n",
       "0           YES  \n",
       "1           YES  \n",
       "2            NO  \n",
       "3            NO  \n",
       "4            NO  \n",
       "..          ...  \n",
       "304         YES  \n",
       "305         YES  \n",
       "306         YES  \n",
       "307         YES  \n",
       "308         YES  \n",
       "\n",
       "[309 rows x 16 columns]"
      ]
     },
     "execution_count": 5,
     "metadata": {},
     "output_type": "execute_result"
    }
   ],
   "source": [
    "df"
   ]
  },
  {
   "cell_type": "code",
   "execution_count": 6,
   "id": "7f251549-1401-4bd4-a5dd-94c7c55d1922",
   "metadata": {},
   "outputs": [
    {
     "data": {
      "text/html": [
       "<div>\n",
       "<style scoped>\n",
       "    .dataframe tbody tr th:only-of-type {\n",
       "        vertical-align: middle;\n",
       "    }\n",
       "\n",
       "    .dataframe tbody tr th {\n",
       "        vertical-align: top;\n",
       "    }\n",
       "\n",
       "    .dataframe thead th {\n",
       "        text-align: right;\n",
       "    }\n",
       "</style>\n",
       "<table border=\"1\" class=\"dataframe\">\n",
       "  <thead>\n",
       "    <tr style=\"text-align: right;\">\n",
       "      <th></th>\n",
       "      <th>GENDER</th>\n",
       "      <th>AGE</th>\n",
       "      <th>SMOKING</th>\n",
       "      <th>YELLOW_FINGERS</th>\n",
       "      <th>ANXIETY</th>\n",
       "      <th>PEER_PRESSURE</th>\n",
       "      <th>CHRONIC DISEASE</th>\n",
       "      <th>FATIGUE</th>\n",
       "      <th>ALLERGY</th>\n",
       "      <th>WHEEZING</th>\n",
       "      <th>ALCOHOL CONSUMING</th>\n",
       "      <th>COUGHING</th>\n",
       "      <th>SHORTNESS OF BREATH</th>\n",
       "      <th>SWALLOWING DIFFICULTY</th>\n",
       "      <th>CHEST PAIN</th>\n",
       "      <th>LUNG_CANCER</th>\n",
       "    </tr>\n",
       "  </thead>\n",
       "  <tbody>\n",
       "    <tr>\n",
       "      <th>0</th>\n",
       "      <td>M</td>\n",
       "      <td>69</td>\n",
       "      <td>1</td>\n",
       "      <td>2</td>\n",
       "      <td>2</td>\n",
       "      <td>1</td>\n",
       "      <td>1</td>\n",
       "      <td>2</td>\n",
       "      <td>1</td>\n",
       "      <td>2</td>\n",
       "      <td>2</td>\n",
       "      <td>2</td>\n",
       "      <td>2</td>\n",
       "      <td>2</td>\n",
       "      <td>2</td>\n",
       "      <td>YES</td>\n",
       "    </tr>\n",
       "    <tr>\n",
       "      <th>1</th>\n",
       "      <td>M</td>\n",
       "      <td>74</td>\n",
       "      <td>2</td>\n",
       "      <td>1</td>\n",
       "      <td>1</td>\n",
       "      <td>1</td>\n",
       "      <td>2</td>\n",
       "      <td>2</td>\n",
       "      <td>2</td>\n",
       "      <td>1</td>\n",
       "      <td>1</td>\n",
       "      <td>1</td>\n",
       "      <td>2</td>\n",
       "      <td>2</td>\n",
       "      <td>2</td>\n",
       "      <td>YES</td>\n",
       "    </tr>\n",
       "    <tr>\n",
       "      <th>2</th>\n",
       "      <td>F</td>\n",
       "      <td>59</td>\n",
       "      <td>1</td>\n",
       "      <td>1</td>\n",
       "      <td>1</td>\n",
       "      <td>2</td>\n",
       "      <td>1</td>\n",
       "      <td>2</td>\n",
       "      <td>1</td>\n",
       "      <td>2</td>\n",
       "      <td>1</td>\n",
       "      <td>2</td>\n",
       "      <td>2</td>\n",
       "      <td>1</td>\n",
       "      <td>2</td>\n",
       "      <td>NO</td>\n",
       "    </tr>\n",
       "    <tr>\n",
       "      <th>3</th>\n",
       "      <td>M</td>\n",
       "      <td>63</td>\n",
       "      <td>2</td>\n",
       "      <td>2</td>\n",
       "      <td>2</td>\n",
       "      <td>1</td>\n",
       "      <td>1</td>\n",
       "      <td>1</td>\n",
       "      <td>1</td>\n",
       "      <td>1</td>\n",
       "      <td>2</td>\n",
       "      <td>1</td>\n",
       "      <td>1</td>\n",
       "      <td>2</td>\n",
       "      <td>2</td>\n",
       "      <td>NO</td>\n",
       "    </tr>\n",
       "    <tr>\n",
       "      <th>4</th>\n",
       "      <td>F</td>\n",
       "      <td>63</td>\n",
       "      <td>1</td>\n",
       "      <td>2</td>\n",
       "      <td>1</td>\n",
       "      <td>1</td>\n",
       "      <td>1</td>\n",
       "      <td>1</td>\n",
       "      <td>1</td>\n",
       "      <td>2</td>\n",
       "      <td>1</td>\n",
       "      <td>2</td>\n",
       "      <td>2</td>\n",
       "      <td>1</td>\n",
       "      <td>1</td>\n",
       "      <td>NO</td>\n",
       "    </tr>\n",
       "  </tbody>\n",
       "</table>\n",
       "</div>"
      ],
      "text/plain": [
       "  GENDER  AGE  SMOKING  YELLOW_FINGERS  ANXIETY  PEER_PRESSURE  \\\n",
       "0      M   69        1               2        2              1   \n",
       "1      M   74        2               1        1              1   \n",
       "2      F   59        1               1        1              2   \n",
       "3      M   63        2               2        2              1   \n",
       "4      F   63        1               2        1              1   \n",
       "\n",
       "   CHRONIC DISEASE  FATIGUE   ALLERGY   WHEEZING  ALCOHOL CONSUMING  COUGHING  \\\n",
       "0                1         2         1         2                  2         2   \n",
       "1                2         2         2         1                  1         1   \n",
       "2                1         2         1         2                  1         2   \n",
       "3                1         1         1         1                  2         1   \n",
       "4                1         1         1         2                  1         2   \n",
       "\n",
       "   SHORTNESS OF BREATH  SWALLOWING DIFFICULTY  CHEST PAIN LUNG_CANCER  \n",
       "0                    2                      2           2         YES  \n",
       "1                    2                      2           2         YES  \n",
       "2                    2                      1           2          NO  \n",
       "3                    1                      2           2          NO  \n",
       "4                    2                      1           1          NO  "
      ]
     },
     "execution_count": 6,
     "metadata": {},
     "output_type": "execute_result"
    }
   ],
   "source": [
    "#1 = No, 2 = Yes -> YES,NO = 1,0\n",
    "#Gender -> M,F = 0,1 respectively\n",
    "#LUNG_CANCER -> YES,NO = 1,0 respectively\n",
    "df.head()"
   ]
  },
  {
   "cell_type": "markdown",
   "id": "0c736da6-f889-4e91-994b-0fff0524d80d",
   "metadata": {},
   "source": [
    "### Feature engineering - labeling for categorical values"
   ]
  },
  {
   "cell_type": "code",
   "execution_count": 7,
   "id": "d03525b0-5e42-4b20-b8b4-a5221deb5290",
   "metadata": {},
   "outputs": [],
   "source": [
    "list_answer_cols = [i for i in df.columns if i not in ['GENDER','AGE','LUNG_CANCER']]"
   ]
  },
  {
   "cell_type": "code",
   "execution_count": 8,
   "id": "9c52246f-1722-4362-9695-fb22f17e02bc",
   "metadata": {},
   "outputs": [],
   "source": [
    "df_new = df.copy()"
   ]
  },
  {
   "cell_type": "code",
   "execution_count": 9,
   "id": "638059a1-80e6-42ff-ac65-2248c7d63375",
   "metadata": {},
   "outputs": [],
   "source": [
    "for i in list_answer_cols:\n",
    "    df_new[i] = df_new[i].apply(lambda x: 1 if x == 2 else 0).astype(int)"
   ]
  },
  {
   "cell_type": "code",
   "execution_count": 10,
   "id": "12286557-d23e-4a21-8d9b-680b793270c4",
   "metadata": {},
   "outputs": [],
   "source": [
    "df_new['GENDER'] = df_new['GENDER'].apply(lambda x: 0 if x =='M' else 1)"
   ]
  },
  {
   "cell_type": "code",
   "execution_count": 11,
   "id": "eaeb9182-64b9-4425-971a-4ff1bf6fdc91",
   "metadata": {},
   "outputs": [],
   "source": [
    "df_new['LUNG_CANCER'] = df_new['LUNG_CANCER'].apply(lambda x: 1 if x =='YES' else 0)"
   ]
  },
  {
   "cell_type": "code",
   "execution_count": 12,
   "id": "3d84ec99-fff5-49e4-91f6-cea14bc524a7",
   "metadata": {},
   "outputs": [],
   "source": [
    "import re\n",
    "df_new.columns = [re.sub(' ','_',i) for i in df_new.columns]"
   ]
  },
  {
   "cell_type": "code",
   "execution_count": 13,
   "id": "9ace7ed2-1e6e-4d46-8aa5-7c03e802d755",
   "metadata": {},
   "outputs": [],
   "source": [
    "import sklearn"
   ]
  },
  {
   "cell_type": "code",
   "execution_count": 14,
   "id": "05f578d4-6597-4b56-a514-7a667f4cd11c",
   "metadata": {},
   "outputs": [],
   "source": [
    "from sklearn import linear_model#.LogisticRegression"
   ]
  },
  {
   "cell_type": "code",
   "execution_count": 15,
   "id": "66e9cb1e-a3a4-4bab-8222-14b5f6b85273",
   "metadata": {},
   "outputs": [],
   "source": [
    "from sklearn.metrics import classification_report, confusion_matrix"
   ]
  },
  {
   "cell_type": "code",
   "execution_count": 16,
   "id": "fb018198-344a-4c3f-a755-98a8fcfdc6a1",
   "metadata": {},
   "outputs": [
    {
     "data": {
      "text/html": [
       "<div>\n",
       "<style scoped>\n",
       "    .dataframe tbody tr th:only-of-type {\n",
       "        vertical-align: middle;\n",
       "    }\n",
       "\n",
       "    .dataframe tbody tr th {\n",
       "        vertical-align: top;\n",
       "    }\n",
       "\n",
       "    .dataframe thead th {\n",
       "        text-align: right;\n",
       "    }\n",
       "</style>\n",
       "<table border=\"1\" class=\"dataframe\">\n",
       "  <thead>\n",
       "    <tr style=\"text-align: right;\">\n",
       "      <th></th>\n",
       "      <th>GENDER</th>\n",
       "      <th>AGE</th>\n",
       "      <th>SMOKING</th>\n",
       "      <th>YELLOW_FINGERS</th>\n",
       "      <th>ANXIETY</th>\n",
       "      <th>PEER_PRESSURE</th>\n",
       "      <th>CHRONIC_DISEASE</th>\n",
       "      <th>FATIGUE_</th>\n",
       "      <th>ALLERGY_</th>\n",
       "      <th>WHEEZING</th>\n",
       "      <th>ALCOHOL_CONSUMING</th>\n",
       "      <th>COUGHING</th>\n",
       "      <th>SHORTNESS_OF_BREATH</th>\n",
       "      <th>SWALLOWING_DIFFICULTY</th>\n",
       "      <th>CHEST_PAIN</th>\n",
       "      <th>LUNG_CANCER</th>\n",
       "    </tr>\n",
       "  </thead>\n",
       "  <tbody>\n",
       "    <tr>\n",
       "      <th>0</th>\n",
       "      <td>0</td>\n",
       "      <td>69</td>\n",
       "      <td>0</td>\n",
       "      <td>1</td>\n",
       "      <td>1</td>\n",
       "      <td>0</td>\n",
       "      <td>0</td>\n",
       "      <td>1</td>\n",
       "      <td>0</td>\n",
       "      <td>1</td>\n",
       "      <td>1</td>\n",
       "      <td>1</td>\n",
       "      <td>1</td>\n",
       "      <td>1</td>\n",
       "      <td>1</td>\n",
       "      <td>1</td>\n",
       "    </tr>\n",
       "    <tr>\n",
       "      <th>1</th>\n",
       "      <td>0</td>\n",
       "      <td>74</td>\n",
       "      <td>1</td>\n",
       "      <td>0</td>\n",
       "      <td>0</td>\n",
       "      <td>0</td>\n",
       "      <td>1</td>\n",
       "      <td>1</td>\n",
       "      <td>1</td>\n",
       "      <td>0</td>\n",
       "      <td>0</td>\n",
       "      <td>0</td>\n",
       "      <td>1</td>\n",
       "      <td>1</td>\n",
       "      <td>1</td>\n",
       "      <td>1</td>\n",
       "    </tr>\n",
       "    <tr>\n",
       "      <th>2</th>\n",
       "      <td>1</td>\n",
       "      <td>59</td>\n",
       "      <td>0</td>\n",
       "      <td>0</td>\n",
       "      <td>0</td>\n",
       "      <td>1</td>\n",
       "      <td>0</td>\n",
       "      <td>1</td>\n",
       "      <td>0</td>\n",
       "      <td>1</td>\n",
       "      <td>0</td>\n",
       "      <td>1</td>\n",
       "      <td>1</td>\n",
       "      <td>0</td>\n",
       "      <td>1</td>\n",
       "      <td>0</td>\n",
       "    </tr>\n",
       "    <tr>\n",
       "      <th>3</th>\n",
       "      <td>0</td>\n",
       "      <td>63</td>\n",
       "      <td>1</td>\n",
       "      <td>1</td>\n",
       "      <td>1</td>\n",
       "      <td>0</td>\n",
       "      <td>0</td>\n",
       "      <td>0</td>\n",
       "      <td>0</td>\n",
       "      <td>0</td>\n",
       "      <td>1</td>\n",
       "      <td>0</td>\n",
       "      <td>0</td>\n",
       "      <td>1</td>\n",
       "      <td>1</td>\n",
       "      <td>0</td>\n",
       "    </tr>\n",
       "    <tr>\n",
       "      <th>4</th>\n",
       "      <td>1</td>\n",
       "      <td>63</td>\n",
       "      <td>0</td>\n",
       "      <td>1</td>\n",
       "      <td>0</td>\n",
       "      <td>0</td>\n",
       "      <td>0</td>\n",
       "      <td>0</td>\n",
       "      <td>0</td>\n",
       "      <td>1</td>\n",
       "      <td>0</td>\n",
       "      <td>1</td>\n",
       "      <td>1</td>\n",
       "      <td>0</td>\n",
       "      <td>0</td>\n",
       "      <td>0</td>\n",
       "    </tr>\n",
       "    <tr>\n",
       "      <th>...</th>\n",
       "      <td>...</td>\n",
       "      <td>...</td>\n",
       "      <td>...</td>\n",
       "      <td>...</td>\n",
       "      <td>...</td>\n",
       "      <td>...</td>\n",
       "      <td>...</td>\n",
       "      <td>...</td>\n",
       "      <td>...</td>\n",
       "      <td>...</td>\n",
       "      <td>...</td>\n",
       "      <td>...</td>\n",
       "      <td>...</td>\n",
       "      <td>...</td>\n",
       "      <td>...</td>\n",
       "      <td>...</td>\n",
       "    </tr>\n",
       "    <tr>\n",
       "      <th>304</th>\n",
       "      <td>1</td>\n",
       "      <td>56</td>\n",
       "      <td>0</td>\n",
       "      <td>0</td>\n",
       "      <td>0</td>\n",
       "      <td>1</td>\n",
       "      <td>1</td>\n",
       "      <td>1</td>\n",
       "      <td>0</td>\n",
       "      <td>0</td>\n",
       "      <td>1</td>\n",
       "      <td>1</td>\n",
       "      <td>1</td>\n",
       "      <td>1</td>\n",
       "      <td>0</td>\n",
       "      <td>1</td>\n",
       "    </tr>\n",
       "    <tr>\n",
       "      <th>305</th>\n",
       "      <td>0</td>\n",
       "      <td>70</td>\n",
       "      <td>1</td>\n",
       "      <td>0</td>\n",
       "      <td>0</td>\n",
       "      <td>0</td>\n",
       "      <td>0</td>\n",
       "      <td>1</td>\n",
       "      <td>1</td>\n",
       "      <td>1</td>\n",
       "      <td>1</td>\n",
       "      <td>1</td>\n",
       "      <td>1</td>\n",
       "      <td>0</td>\n",
       "      <td>1</td>\n",
       "      <td>1</td>\n",
       "    </tr>\n",
       "    <tr>\n",
       "      <th>306</th>\n",
       "      <td>0</td>\n",
       "      <td>58</td>\n",
       "      <td>1</td>\n",
       "      <td>0</td>\n",
       "      <td>0</td>\n",
       "      <td>0</td>\n",
       "      <td>0</td>\n",
       "      <td>0</td>\n",
       "      <td>1</td>\n",
       "      <td>1</td>\n",
       "      <td>1</td>\n",
       "      <td>1</td>\n",
       "      <td>0</td>\n",
       "      <td>0</td>\n",
       "      <td>1</td>\n",
       "      <td>1</td>\n",
       "    </tr>\n",
       "    <tr>\n",
       "      <th>307</th>\n",
       "      <td>0</td>\n",
       "      <td>67</td>\n",
       "      <td>1</td>\n",
       "      <td>0</td>\n",
       "      <td>1</td>\n",
       "      <td>0</td>\n",
       "      <td>0</td>\n",
       "      <td>1</td>\n",
       "      <td>1</td>\n",
       "      <td>0</td>\n",
       "      <td>1</td>\n",
       "      <td>1</td>\n",
       "      <td>1</td>\n",
       "      <td>0</td>\n",
       "      <td>1</td>\n",
       "      <td>1</td>\n",
       "    </tr>\n",
       "    <tr>\n",
       "      <th>308</th>\n",
       "      <td>0</td>\n",
       "      <td>62</td>\n",
       "      <td>0</td>\n",
       "      <td>0</td>\n",
       "      <td>0</td>\n",
       "      <td>1</td>\n",
       "      <td>0</td>\n",
       "      <td>1</td>\n",
       "      <td>1</td>\n",
       "      <td>1</td>\n",
       "      <td>1</td>\n",
       "      <td>0</td>\n",
       "      <td>0</td>\n",
       "      <td>1</td>\n",
       "      <td>0</td>\n",
       "      <td>1</td>\n",
       "    </tr>\n",
       "  </tbody>\n",
       "</table>\n",
       "<p>309 rows × 16 columns</p>\n",
       "</div>"
      ],
      "text/plain": [
       "     GENDER  AGE  SMOKING  YELLOW_FINGERS  ANXIETY  PEER_PRESSURE  \\\n",
       "0         0   69        0               1        1              0   \n",
       "1         0   74        1               0        0              0   \n",
       "2         1   59        0               0        0              1   \n",
       "3         0   63        1               1        1              0   \n",
       "4         1   63        0               1        0              0   \n",
       "..      ...  ...      ...             ...      ...            ...   \n",
       "304       1   56        0               0        0              1   \n",
       "305       0   70        1               0        0              0   \n",
       "306       0   58        1               0        0              0   \n",
       "307       0   67        1               0        1              0   \n",
       "308       0   62        0               0        0              1   \n",
       "\n",
       "     CHRONIC_DISEASE  FATIGUE_  ALLERGY_  WHEEZING  ALCOHOL_CONSUMING  \\\n",
       "0                  0         1         0         1                  1   \n",
       "1                  1         1         1         0                  0   \n",
       "2                  0         1         0         1                  0   \n",
       "3                  0         0         0         0                  1   \n",
       "4                  0         0         0         1                  0   \n",
       "..               ...       ...       ...       ...                ...   \n",
       "304                1         1         0         0                  1   \n",
       "305                0         1         1         1                  1   \n",
       "306                0         0         1         1                  1   \n",
       "307                0         1         1         0                  1   \n",
       "308                0         1         1         1                  1   \n",
       "\n",
       "     COUGHING  SHORTNESS_OF_BREATH  SWALLOWING_DIFFICULTY  CHEST_PAIN  \\\n",
       "0           1                    1                      1           1   \n",
       "1           0                    1                      1           1   \n",
       "2           1                    1                      0           1   \n",
       "3           0                    0                      1           1   \n",
       "4           1                    1                      0           0   \n",
       "..        ...                  ...                    ...         ...   \n",
       "304         1                    1                      1           0   \n",
       "305         1                    1                      0           1   \n",
       "306         1                    0                      0           1   \n",
       "307         1                    1                      0           1   \n",
       "308         0                    0                      1           0   \n",
       "\n",
       "     LUNG_CANCER  \n",
       "0              1  \n",
       "1              1  \n",
       "2              0  \n",
       "3              0  \n",
       "4              0  \n",
       "..           ...  \n",
       "304            1  \n",
       "305            1  \n",
       "306            1  \n",
       "307            1  \n",
       "308            1  \n",
       "\n",
       "[309 rows x 16 columns]"
      ]
     },
     "execution_count": 16,
     "metadata": {},
     "output_type": "execute_result"
    }
   ],
   "source": [
    "df_new"
   ]
  },
  {
   "cell_type": "code",
   "execution_count": 17,
   "id": "9e193dbf-a8ab-4f51-8f2b-3ec204586491",
   "metadata": {},
   "outputs": [],
   "source": [
    "target_var = 'LUNG_CANCER'\n",
    "ftrs = [i for i in df_new.columns if i != target_var]"
   ]
  },
  {
   "cell_type": "code",
   "execution_count": 18,
   "id": "9b19e78a-56d4-4d03-99ce-e332e8fa9506",
   "metadata": {},
   "outputs": [],
   "source": [
    "model = linear_model.LogisticRegression(solver='liblinear', random_state=0)\n",
    "model_l1 = linear_model.LogisticRegression(solver='liblinear', random_state=0,C=0.1,penalty='l1')\n",
    "model_l2 = linear_model.LogisticRegression(solver='liblinear', random_state=0,C=0.1,penalty='l2')"
   ]
  },
  {
   "cell_type": "code",
   "execution_count": 19,
   "id": "6df3a213-1784-4cbb-a56c-ce571cc2802e",
   "metadata": {},
   "outputs": [],
   "source": [
    "from sklearn.model_selection import train_test_split\n",
    "x_train, x_test, y_train, y_test =\\\n",
    "    train_test_split(df_new[ftrs],df_new[target_var], test_size=0.2, random_state=0,stratify=df_new[target_var])"
   ]
  },
  {
   "cell_type": "code",
   "execution_count": 20,
   "id": "789cd761-f832-4a6a-aefe-7baca9815c67",
   "metadata": {},
   "outputs": [
    {
     "data": {
      "text/plain": [
       "23     1\n",
       "61     0\n",
       "180    1\n",
       "202    1\n",
       "79     1\n",
       "      ..\n",
       "40     1\n",
       "21     1\n",
       "158    1\n",
       "216    1\n",
       "177    1\n",
       "Name: LUNG_CANCER, Length: 247, dtype: int64"
      ]
     },
     "execution_count": 20,
     "metadata": {},
     "output_type": "execute_result"
    }
   ],
   "source": [
    "y_train"
   ]
  },
  {
   "cell_type": "code",
   "execution_count": 21,
   "id": "6c3557fb-ead8-42bf-8079-bded47e8656b",
   "metadata": {},
   "outputs": [
    {
     "data": {
      "text/plain": [
       "216"
      ]
     },
     "execution_count": 21,
     "metadata": {},
     "output_type": "execute_result"
    }
   ],
   "source": [
    "y_train.sum()"
   ]
  },
  {
   "cell_type": "code",
   "execution_count": 22,
   "id": "40d0cb95-a682-4b38-94bb-89999207f52e",
   "metadata": {},
   "outputs": [
    {
     "name": "stdout",
     "output_type": "stream",
     "text": [
      "Original Dataset:  LUNG_CANCER\n",
      "0     39\n",
      "1    270\n",
      "Name: GENDER, dtype: int64\n",
      "Train Dataset:  1: 31 0: 216\n",
      "Test Dataset:  1: 8 0: 54\n"
     ]
    }
   ],
   "source": [
    "print('Original Dataset: ',df_new.groupby(['LUNG_CANCER'])['GENDER'].count())\n",
    "print('Train Dataset: ','1:',y_train.count()-y_train.sum(),'0:',-1*(y_train.count()-y_train.count()-y_train.sum())  )\n",
    "print('Test Dataset: ','1:',y_test.count()-y_test.sum(),'0:',-1*(y_test.count()-y_test.count()-y_test.sum())  )\n",
    "\n"
   ]
  },
  {
   "cell_type": "code",
   "execution_count": 23,
   "id": "7f2d0952-a006-42b7-9541-696afbaad084",
   "metadata": {},
   "outputs": [
    {
     "data": {
      "text/plain": [
       "LogisticRegression(C=0.1, random_state=0, solver='liblinear')"
      ]
     },
     "execution_count": 23,
     "metadata": {},
     "output_type": "execute_result"
    }
   ],
   "source": [
    "model.fit(x_train,y_train)\n",
    "model_l1.fit(x_train,y_train)\n",
    "model_l2.fit(x_train,y_train)"
   ]
  },
  {
   "cell_type": "code",
   "execution_count": 24,
   "id": "4766ef45-2e43-4a21-b91b-ef4e6c0efdfe",
   "metadata": {},
   "outputs": [],
   "source": [
    "from sklearn.metrics import confusion_matrix\n",
    "\n"
   ]
  },
  {
   "cell_type": "code",
   "execution_count": 25,
   "id": "179a0d63-e119-4d4d-a385-0842ff7fb0b8",
   "metadata": {},
   "outputs": [
    {
     "data": {
      "text/plain": [
       "array([1, 1, 1, 1, 1, 1, 0, 1, 0, 1, 1, 1, 1, 1, 1, 1, 1, 1, 1, 1, 1, 1,\n",
       "       1, 0, 1, 1, 1, 1, 1, 1, 1, 1, 1, 1, 0, 1, 1, 1, 1, 1, 1, 1, 1, 1,\n",
       "       1, 1, 1, 1, 1, 1, 1, 1, 1, 1, 1, 1, 1, 1, 1, 1, 1, 1])"
      ]
     },
     "execution_count": 25,
     "metadata": {},
     "output_type": "execute_result"
    }
   ],
   "source": [
    "model.predict(x_test)"
   ]
  },
  {
   "cell_type": "code",
   "execution_count": 26,
   "id": "321948eb-2f01-4168-bd60-36ae4eae90b1",
   "metadata": {},
   "outputs": [
    {
     "name": "stdout",
     "output_type": "stream",
     "text": [
      "-----------------------L1--------------------------\n",
      "              precision    recall  f1-score   support\n",
      "\n",
      "           0       0.00      0.00      0.00         8\n",
      "           1       0.87      1.00      0.93        54\n",
      "\n",
      "    accuracy                           0.87        62\n",
      "   macro avg       0.44      0.50      0.47        62\n",
      "weighted avg       0.76      0.87      0.81        62\n",
      "\n",
      "Predicted   1  All\n",
      "True              \n",
      "0           8    8\n",
      "1          54   54\n",
      "All        62   62\n",
      "-----------------------L2--------------------------\n",
      "              precision    recall  f1-score   support\n",
      "\n",
      "           0       0.00      0.00      0.00         8\n",
      "           1       0.87      1.00      0.93        54\n",
      "\n",
      "    accuracy                           0.87        62\n",
      "   macro avg       0.44      0.50      0.47        62\n",
      "weighted avg       0.76      0.87      0.81        62\n",
      "\n",
      "Predicted   1  All\n",
      "True              \n",
      "0           8    8\n",
      "1          54   54\n",
      "All        62   62\n",
      "-----------------------No R--------------------------\n",
      "              precision    recall  f1-score   support\n",
      "\n",
      "           0       0.50      0.25      0.33         8\n",
      "           1       0.90      0.96      0.93        54\n",
      "\n",
      "    accuracy                           0.87        62\n",
      "   macro avg       0.70      0.61      0.63        62\n",
      "weighted avg       0.85      0.87      0.85        62\n",
      "\n",
      "Predicted  0   1  All\n",
      "True                 \n",
      "0          2   6    8\n",
      "1          2  52   54\n",
      "All        4  58   62\n"
     ]
    },
    {
     "name": "stderr",
     "output_type": "stream",
     "text": [
      "/Users/tchun/opt/anaconda3/envs/carparts/lib/python3.9/site-packages/sklearn/metrics/_classification.py:1248: UndefinedMetricWarning: Precision and F-score are ill-defined and being set to 0.0 in labels with no predicted samples. Use `zero_division` parameter to control this behavior.\n",
      "  _warn_prf(average, modifier, msg_start, len(result))\n",
      "/Users/tchun/opt/anaconda3/envs/carparts/lib/python3.9/site-packages/sklearn/metrics/_classification.py:1248: UndefinedMetricWarning: Precision and F-score are ill-defined and being set to 0.0 in labels with no predicted samples. Use `zero_division` parameter to control this behavior.\n",
      "  _warn_prf(average, modifier, msg_start, len(result))\n",
      "/Users/tchun/opt/anaconda3/envs/carparts/lib/python3.9/site-packages/sklearn/metrics/_classification.py:1248: UndefinedMetricWarning: Precision and F-score are ill-defined and being set to 0.0 in labels with no predicted samples. Use `zero_division` parameter to control this behavior.\n",
      "  _warn_prf(average, modifier, msg_start, len(result))\n",
      "/Users/tchun/opt/anaconda3/envs/carparts/lib/python3.9/site-packages/sklearn/metrics/_classification.py:1248: UndefinedMetricWarning: Precision and F-score are ill-defined and being set to 0.0 in labels with no predicted samples. Use `zero_division` parameter to control this behavior.\n",
      "  _warn_prf(average, modifier, msg_start, len(result))\n",
      "/Users/tchun/opt/anaconda3/envs/carparts/lib/python3.9/site-packages/sklearn/metrics/_classification.py:1248: UndefinedMetricWarning: Precision and F-score are ill-defined and being set to 0.0 in labels with no predicted samples. Use `zero_division` parameter to control this behavior.\n",
      "  _warn_prf(average, modifier, msg_start, len(result))\n",
      "/Users/tchun/opt/anaconda3/envs/carparts/lib/python3.9/site-packages/sklearn/metrics/_classification.py:1248: UndefinedMetricWarning: Precision and F-score are ill-defined and being set to 0.0 in labels with no predicted samples. Use `zero_division` parameter to control this behavior.\n",
      "  _warn_prf(average, modifier, msg_start, len(result))\n"
     ]
    }
   ],
   "source": [
    "#L2 would be the best because it has multicolinearity by the context in the features, also would want to preserve all the features since it is very confidential and not easily reproducible data.\n",
    "print('-----------------------L1--------------------------')\n",
    "print(classification_report(y_test, model_l1.predict(x_test)))\n",
    "print(pd.crosstab(y_test, model_l1.predict(x_test), rownames=['True'], colnames=['Predicted'], margins=True))\n",
    "print('-----------------------L2--------------------------')\n",
    "print(classification_report(y_test, model_l2.predict(x_test)))\n",
    "print(pd.crosstab(y_test, model_l2.predict(x_test), rownames=['True'], colnames=['Predicted'], margins=True))\n",
    "print('-----------------------No R--------------------------')\n",
    "print(classification_report(y_test, model.predict(x_test)))\n",
    "print(pd.crosstab(y_test, model.predict(x_test), rownames=['True'], colnames=['Predicted'], margins=True))\n"
   ]
  },
  {
   "cell_type": "code",
   "execution_count": 27,
   "id": "e2b08028-a62a-4b29-ac02-3ca6e0d98ac8",
   "metadata": {},
   "outputs": [
    {
     "name": "stdout",
     "output_type": "stream",
     "text": [
      "train data :  torch.Size([247, 15])\n",
      "test data :  torch.Size([62, 15])\n"
     ]
    }
   ],
   "source": [
    "\n",
    "X_train_tensor = torch.from_numpy(np.array(x_train)).to(torch.float)\n",
    "X_test_tensor = torch.from_numpy(np.array(x_test)).to(torch.float)\n",
    "\n",
    "print('train data : ',\n",
    "X_train_tensor.shape\n",
    ")\n",
    "\n",
    "print('test data : ',\n",
    "X_test_tensor.shape\n",
    ")"
   ]
  },
  {
   "cell_type": "code",
   "execution_count": 28,
   "id": "d89916f2-7c55-41d2-a4b4-15248da6c497",
   "metadata": {},
   "outputs": [
    {
     "name": "stdout",
     "output_type": "stream",
     "text": [
      "train data :  torch.Size([247, 1])\n",
      "test data :  torch.Size([62, 1])\n"
     ]
    }
   ],
   "source": [
    "Y_train_tensor = torch.from_numpy(np.array(y_train)).view(-1,1).to(torch.float)\n",
    "Y_test_tensor = torch.from_numpy(np.array(y_test)).view(-1,1).to(torch.float)\n",
    "\n",
    "\n",
    "print('train data : ',\n",
    "Y_train_tensor.shape\n",
    ")\n",
    "\n",
    "print('test data : ',\n",
    "Y_test_tensor.shape\n",
    ")"
   ]
  },
  {
   "cell_type": "code",
   "execution_count": 29,
   "id": "1936ab6c-228b-4e06-82c5-1d791f6f0c67",
   "metadata": {},
   "outputs": [],
   "source": [
    "#Each dimension represents neuron.\n",
    "#Result from a full/non-fully connected layer is hidden layer, also noted as Z_i\n",
    "#The model structure works the same, but sigmoid(also activation function) makes it logistic regression as classification\n",
    "\n",
    "class PimaClassifier(nn.Module):\n",
    "    def __init__(self):\n",
    "        super().__init__()\n",
    "        self.hidden1 = nn.Linear(15, 12)\n",
    "        self.act1 = nn.ReLU()\n",
    "        self.hidden2 = nn.Linear(12, 8)\n",
    "        self.act2 = nn.ReLU()\n",
    "        self.output = nn.Linear(8, 1)\n",
    "        self.act_output = nn.Sigmoid()\n",
    " \n",
    "    def forward(self, x):\n",
    "        x = self.hidden1(x)\n",
    "        x = self.act1(x)\n",
    "        x = self.act2(self.hidden2(x))\n",
    "        x = self.act_output(self.output(x))\n",
    "        return x\n",
    " \n",
    "\n",
    "\n"
   ]
  },
  {
   "cell_type": "markdown",
   "id": "77cbcbdb-fdbc-48e2-a7ce-22db6a78d533",
   "metadata": {},
   "source": [
    "### Model Summary"
   ]
  },
  {
   "cell_type": "code",
   "execution_count": 30,
   "id": "3fa32627-4106-4f24-b977-9da3fccc19ee",
   "metadata": {},
   "outputs": [
    {
     "name": "stdout",
     "output_type": "stream",
     "text": [
      "PimaClassifier(\n",
      "  (hidden1): Linear(in_features=15, out_features=12, bias=True)\n",
      "  (act1): ReLU()\n",
      "  (hidden2): Linear(in_features=12, out_features=8, bias=True)\n",
      "  (act2): ReLU()\n",
      "  (output): Linear(in_features=8, out_features=1, bias=True)\n",
      "  (act_output): Sigmoid()\n",
      ")\n"
     ]
    }
   ],
   "source": [
    "model_nn = PimaClassifier()\n",
    "print(model_nn)"
   ]
  },
  {
   "cell_type": "markdown",
   "id": "4c91a7a0-bf20-4bcf-bcac-cacd72a9f8ba",
   "metadata": {},
   "source": [
    "### forward - layer dimensions"
   ]
  },
  {
   "cell_type": "code",
   "execution_count": 31,
   "id": "306a4b53-680a-47d2-be65-7c2666b5bb01",
   "metadata": {},
   "outputs": [
    {
     "name": "stdout",
     "output_type": "stream",
     "text": [
      "hidden1.weight\n",
      "torch.Size([12, 15])\n",
      "hidden1.bias\n",
      "torch.Size([12])\n",
      "hidden2.weight\n",
      "torch.Size([8, 12])\n",
      "hidden2.bias\n",
      "torch.Size([8])\n",
      "output.weight\n",
      "torch.Size([1, 8])\n",
      "output.bias\n",
      "torch.Size([1])\n"
     ]
    }
   ],
   "source": [
    "for i in model_nn.named_parameters():\n",
    "    print(i[0])\n",
    "    print(i[1].shape)\n"
   ]
  },
  {
   "cell_type": "markdown",
   "id": "8f5cb7fc-41ae-454e-97e5-5cb42ddfde8d",
   "metadata": {},
   "source": [
    "### NN Model\n",
    "$ Z = \\text{Bias} + W_1X_1 + W_2X_2 + \\ldots + W_nX_n $\n",
    "\n",
    "where,\n",
    "- $ Z $ is the symbol denoting the output of the neuron in the artificial neural network.\n",
    "- $ W_i $ are the weights or the beta coefficients associated with the input features $ X_i $.\n",
    "- $ X_i $ are the independent variables or the inputs to the neuron.\n",
    "- Bias or intercept ($ W_0 $) is added as a constant term."
   ]
  },
  {
   "cell_type": "markdown",
   "id": "ff3f50a9-7770-4bed-9c05-e58144d13fe4",
   "metadata": {},
   "source": [
    "## Feed Forward Math Expression\n",
    "#### The whole concept of this neural network task is complexity of the model which will learn complex data, the dimension trasnformation, and non-linearity utilization for real world problems.\n",
    "\n",
    "- 0. X (247x15)\n",
    "- 1. $ Z_1 = W_1 X + b_{1}$, where $ W_{1} $ is (15x12) and $Z_1$ is (247x15)\n",
    "- 1-1.  $ Z_1 =  AF(Z_1) $\n",
    "- 2. $ Z_2 = W_2 Z_1 + b_{2}$, where $ W_{2} $ is (12x8) and $Z_2$ is (247x8)\n",
    "- 2-1.  $ Z_2 =  AF(Z_2) $\n",
    "- 3. $Z_3=\\hat{Y}=Sigmoid(Z_2)$, where $ Z_{3} $ is (247x1)"
   ]
  },
  {
   "cell_type": "code",
   "execution_count": 32,
   "id": "8725a36d-7657-47f9-b6c4-15d28694ee4d",
   "metadata": {},
   "outputs": [
    {
     "data": {
      "text/plain": [
       "torch.float32"
      ]
     },
     "execution_count": 32,
     "metadata": {},
     "output_type": "execute_result"
    }
   ],
   "source": [
    "X_train_tensor.dtype"
   ]
  },
  {
   "cell_type": "code",
   "execution_count": 33,
   "id": "1fc31864-4b2e-4c42-a379-a10b6109b616",
   "metadata": {},
   "outputs": [],
   "source": [
    "\n",
    "loss_fn = nn.BCELoss()  # binary cross entropy\n",
    "optimizer = optim.Adam(model_nn.parameters(), lr=0.001,weight_decay=1e-5)\n"
   ]
  },
  {
   "cell_type": "markdown",
   "id": "9715bcd4-a9e0-4727-9572-9a2d67728b81",
   "metadata": {},
   "source": [
    "## BCELoss binary corss entropy\n",
    "1. $ \\mathcal{L}_{\\text{BCE}}(\\hat{Y}, Y) = -\\left(Y \\cdot \\log(\\hat{Y}) + (1 - Y) \\cdot \\log(1 - \\hat{Y})\\right) $\n",
    "2. $ \\mathcal{L}_{\\text{total}} = \\frac{1}{N} \\sum_{i=1}^{N} \\mathcal{L}_{\\text{BCE}}(\\hat{Y}_i, Y_i) $"
   ]
  },
  {
   "cell_type": "code",
   "execution_count": 34,
   "id": "ee6a8620-7bce-40c4-b3bb-87cdcf33d52f",
   "metadata": {},
   "outputs": [
    {
     "name": "stdout",
     "output_type": "stream",
     "text": [
      "Finished epoch 0, latest loss 0.877433717250824\n",
      "Finished epoch 500, latest loss 0.017450978979468346\n",
      "Finished epoch 1000, latest loss 0.005272890441119671\n",
      "Finished epoch 1500, latest loss 0.00186156143900007\n",
      "Finished epoch 2000, latest loss 0.00014145381283015013\n",
      "Finished epoch 2500, latest loss 2.9728467779932544e-05\n",
      "Finished epoch 3000, latest loss 1.3709694030694664e-05\n",
      "Finished epoch 3500, latest loss 3.865837697958341e-06\n",
      "Finished epoch 4000, latest loss 2.077662429655902e-06\n",
      "Finished epoch 4500, latest loss 1.0047675687019364e-06\n",
      "Finished epoch 4999, latest loss 1.8732900741724734e-07\n"
     ]
    }
   ],
   "source": [
    "\n",
    "n_epochs = 5000\n",
    "batch_size = 10\n",
    "\n",
    "for epoch in range(n_epochs):\n",
    "    for i in range(0, len(X_train_tensor), batch_size):\n",
    "        Xbatch = X_train_tensor[i:i+batch_size]\n",
    "        y_pred = model_nn(Xbatch)\n",
    "        ybatch = Y_train_tensor[i:i+batch_size]\n",
    "        loss = loss_fn(y_pred, ybatch)\n",
    "        optimizer.zero_grad()\n",
    "        loss.backward()\n",
    "        optimizer.step()\n",
    "    if (((epoch % 500) == 0) or ((n_epochs)==(epoch+1))):\n",
    "        print(f'Finished epoch {epoch}, latest loss {loss}')"
   ]
  },
  {
   "cell_type": "markdown",
   "id": "f3fd5a14-6b4c-4aae-a2be-cd8c477d538d",
   "metadata": {},
   "source": [
    "## Backward propagation\n",
    "- We use Gradient Descent method to reduce the total loss. \n",
    "- This step updates weights layer by layer.\n",
    "- $ \\mathbf{w}_{\\text{new}} = \\mathbf{w}_{\\text{old}} - \\alpha \\cdot \\nabla f(\\mathbf{w}_{\\text{old}}) $"
   ]
  },
  {
   "cell_type": "code",
   "execution_count": 35,
   "id": "61d836a0-34ae-4222-9f8c-b78c5bc289e6",
   "metadata": {},
   "outputs": [
    {
     "name": "stdout",
     "output_type": "stream",
     "text": [
      "Accuracy 0.9032257795333862\n",
      "Predicted  0.0  1.0  All\n",
      "True                    \n",
      "0            3    5    8\n",
      "1            1   53   54\n",
      "All          4   58   62\n"
     ]
    }
   ],
   "source": [
    "\n",
    "# compute accuracy (no_grad is optional)\n",
    "with torch.no_grad():\n",
    "    y_pred_test = model_nn(X_test_tensor)\n",
    " \n",
    "accuracy = (y_pred_test.round() == Y_test_tensor).float().mean()\n",
    "print(f\"Accuracy {accuracy}\")\n",
    "print(pd.crosstab(y_test, y_pred_test.round().view(-1).numpy(), rownames=['True'], colnames=['Predicted'], margins=True))"
   ]
  },
  {
   "cell_type": "code",
   "execution_count": 36,
   "id": "c81ee0f5-7e35-4362-8f83-bc31186fe919",
   "metadata": {},
   "outputs": [],
   "source": [
    "model_nn_l2 = PimaClassifier()\n",
    "loss_fn_l2 = nn.BCELoss()  # binary cross entropy\n",
    "optimizer_l2 = optim.Adam(model_nn_l2.parameters(), lr=0.0001,weight_decay=1e-7)\n"
   ]
  },
  {
   "cell_type": "code",
   "execution_count": 37,
   "id": "88e24824-ec73-4435-a6dd-b57320941304",
   "metadata": {},
   "outputs": [
    {
     "name": "stdout",
     "output_type": "stream",
     "text": [
      "Finished epoch 0, latest loss 2.048273801803589\n",
      "Finished epoch 500, latest loss 0.07291598618030548\n",
      "Finished epoch 1000, latest loss 0.045427702367305756\n",
      "Finished epoch 1500, latest loss 0.03533283248543739\n",
      "Finished epoch 2000, latest loss 0.029551969841122627\n",
      "Finished epoch 2500, latest loss 0.02623988874256611\n",
      "Finished epoch 3000, latest loss 0.024152493104338646\n",
      "Finished epoch 3500, latest loss 0.022745486348867416\n",
      "Finished epoch 4000, latest loss 0.021725906059145927\n",
      "Finished epoch 4500, latest loss 0.021003922447562218\n",
      "Finished epoch 4999, latest loss 0.02047090046107769\n"
     ]
    }
   ],
   "source": [
    "\n",
    "n_epochs = 5000\n",
    "batch_size = 10\n",
    " \n",
    "for epoch in range(n_epochs):\n",
    "    for i in range(0, len(X_train_tensor), batch_size):\n",
    "        Xbatch = X_train_tensor[i:i+batch_size]\n",
    "        y_pred_l2 = model_nn_l2(Xbatch)\n",
    "        ybatch = Y_train_tensor[i:i+batch_size]\n",
    "        loss_l2 = loss_fn_l2(y_pred_l2, ybatch)\n",
    "        optimizer_l2.zero_grad()\n",
    "        loss_l2.backward()\n",
    "        optimizer_l2.step()\n",
    "    if (((epoch % 500) == 0) or ((n_epochs)==(epoch+1))):\n",
    "        print(f'Finished epoch {epoch}, latest loss {loss_l2}')"
   ]
  },
  {
   "cell_type": "code",
   "execution_count": 38,
   "id": "8023e3dd-030d-4b24-9b50-1d4da5fd9501",
   "metadata": {},
   "outputs": [
    {
     "name": "stdout",
     "output_type": "stream",
     "text": [
      "Accuracy 0.9193548560142517\n",
      "Predicted  0.0  1.0  All\n",
      "True                    \n",
      "0            4    4    8\n",
      "1            1   53   54\n",
      "All          5   57   62\n"
     ]
    }
   ],
   "source": [
    "\n",
    "# compute accuracy (no_grad is optional)\n",
    "with torch.no_grad():\n",
    "    y_pred_test = model_nn_l2(X_test_tensor)\n",
    " \n",
    "accuracy = (y_pred_test.round() == Y_test_tensor).float().mean()\n",
    "print(f\"Accuracy {accuracy}\")\n",
    "print(pd.crosstab(y_test, y_pred_test.round().view(-1).numpy(), rownames=['True'], colnames=['Predicted'], margins=True))"
   ]
  },
  {
   "cell_type": "code",
   "execution_count": 39,
   "id": "09cda49b-666e-408a-93fd-7be1e53d170f",
   "metadata": {},
   "outputs": [],
   "source": [
    "model_nn_l1 = PimaClassifier()\n",
    "loss_fn_l1 = nn.BCELoss()  # binary cross entropy\n",
    "optimizer_l1 = optim.Adam(model_nn_l1.parameters(), lr=0.0001)\n"
   ]
  },
  {
   "cell_type": "code",
   "execution_count": 40,
   "id": "58ecca4f-36ac-4d90-a2a2-3effe422a14b",
   "metadata": {},
   "outputs": [],
   "source": [
    "# Regularization coefficient for L1 regularization\n",
    "l1_lambda = 0.001"
   ]
  },
  {
   "cell_type": "code",
   "execution_count": 41,
   "id": "8cdc0800-2fce-431e-ade9-d9566216a385",
   "metadata": {},
   "outputs": [
    {
     "name": "stdout",
     "output_type": "stream",
     "text": [
      "Finished epoch 0, latest loss 0.9273009300231934\n",
      "Finished epoch 500, latest loss 0.12008371949195862\n",
      "Finished epoch 1000, latest loss 0.0819053202867508\n",
      "Finished epoch 1500, latest loss 0.07156948745250702\n",
      "Finished epoch 2000, latest loss 0.06547922641038895\n",
      "Finished epoch 2500, latest loss 0.061503469944000244\n",
      "Finished epoch 3000, latest loss 0.058417633175849915\n",
      "Finished epoch 3500, latest loss 0.056181393563747406\n",
      "Finished epoch 4000, latest loss 0.0545554980635643\n",
      "Finished epoch 4500, latest loss 0.05319460853934288\n",
      "Finished epoch 4999, latest loss 0.05202367529273033\n"
     ]
    }
   ],
   "source": [
    "\n",
    "n_epochs = 5000\n",
    "batch_size = 10\n",
    " \n",
    "for epoch in range(n_epochs):\n",
    "    for i in range(0, len(X_train_tensor), batch_size):\n",
    "        Xbatch = X_train_tensor[i:i+batch_size]\n",
    "        y_pred_l1 = model_nn_l1(Xbatch)\n",
    "        ybatch = Y_train_tensor[i:i+batch_size]\n",
    "        loss_l1 = loss_fn_l1(y_pred_l1, ybatch)\n",
    "        # Apply L1 regularization manually\n",
    "        l1_reg = torch.tensor(0., requires_grad=True)\n",
    "        for name, param in model_nn_l1.named_parameters():\n",
    "            if 'weight' in name:\n",
    "                l1_reg = l1_reg + torch.norm(param, p=1)\n",
    "        loss_l1 = loss_l1 + l1_lambda * l1_reg\n",
    "        optimizer_l1.zero_grad()\n",
    "        loss_l1.backward()\n",
    "        optimizer_l1.step()\n",
    "    if (((epoch % 500) == 0) or ((n_epochs)==(epoch+1))):\n",
    "        print(f'Finished epoch {epoch}, latest loss {loss_l1}')"
   ]
  },
  {
   "cell_type": "code",
   "execution_count": 42,
   "id": "1d1e6d01-9f39-44bc-81f8-4f808f83499a",
   "metadata": {},
   "outputs": [
    {
     "name": "stdout",
     "output_type": "stream",
     "text": [
      "Accuracy 0.9193548560142517\n",
      "Predicted  0.0  1.0  All\n",
      "True                    \n",
      "0            4    4    8\n",
      "1            1   53   54\n",
      "All          5   57   62\n"
     ]
    }
   ],
   "source": [
    "\n",
    "# compute accuracy (no_grad is optional)\n",
    "with torch.no_grad():\n",
    "    y_pred_test = model_nn_l1(X_test_tensor)\n",
    " \n",
    "accuracy = (y_pred_test.round() == Y_test_tensor).float().mean()\n",
    "print(f\"Accuracy {accuracy}\")\n",
    "print(pd.crosstab(y_test, y_pred_test.round().view(-1).numpy(), rownames=['True'], colnames=['Predicted'], margins=True))\n"
   ]
  },
  {
   "cell_type": "code",
   "execution_count": 43,
   "id": "c6b905e2-f150-4257-a7d9-596dcc50aecf",
   "metadata": {},
   "outputs": [
    {
     "data": {
      "text/plain": [
       "array([ 4,  4,  1, 53])"
      ]
     },
     "execution_count": 43,
     "metadata": {},
     "output_type": "execute_result"
    }
   ],
   "source": [
    "\n",
    "confusion_matrix(y_test,y_pred_test.round().view(-1).numpy()).ravel()"
   ]
  },
  {
   "cell_type": "code",
   "execution_count": null,
   "id": "7750d67d-4d21-427d-a4e9-23ff13b6a89c",
   "metadata": {},
   "outputs": [],
   "source": [
    "### Further Study\n",
    "- Compare train loss and test loss to check the best epoch in each model\n",
    "- Check the multicolinearity to see if the hypothesis on the problem is correct that each feature is highly correlated.\n",
    "- Try AUC-ROC Curve and determine which threshold will work the best performance for the model.\n",
    "- Try with pure python(By Math Equation) to "
   ]
  }
 ],
 "metadata": {
  "kernelspec": {
   "display_name": "carparts",
   "language": "python",
   "name": "carparts"
  },
  "language_info": {
   "codemirror_mode": {
    "name": "ipython",
    "version": 3
   },
   "file_extension": ".py",
   "mimetype": "text/x-python",
   "name": "python",
   "nbconvert_exporter": "python",
   "pygments_lexer": "ipython3",
   "version": "3.9.7"
  }
 },
 "nbformat": 4,
 "nbformat_minor": 5
}
