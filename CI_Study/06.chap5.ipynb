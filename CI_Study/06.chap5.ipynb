{
 "cells": [
  {
   "cell_type": "markdown",
   "id": "7186101e-67e8-46e2-a061-ebdb55ee237d",
   "metadata": {},
   "source": [
    "How does linear regression allow for the estimation of the average treatment effect (ATE) in causal inference studies, and what role does the dummy variable play in this estimation?\n",
    "\n",
    "$ Y_i = \\beta_0 + k \\beta_1 + u_i $\n",
    "<br>\n",
    "$E[Y|T=0] = \\beta_0 and E[Y|T=1] = \\beta_0 +k$ where k is our ATE. Dummy variable is our treatment indication as 1 or 0 allows us to calculate the ATE which is the coefficient(coveriance between treatment and outcome divided by variance of the treatment) in the model summary.\n",
    "\n",
    "Why is it necessary to control for potential confounders when using linear regression to estimate causal relationships, and how does including these confounders in the regression model help mitigate bias?\n",
    "- No omitted variable bias and no confounding variables. -> it can result in baised estimates.\n",
    "- RCT makes the treated and untreated to be equal, so the bias vanishes.\n",
    "\n",
    "What is the significance of the \"partialling out\" interpretation in multivariate linear regression, especially in the context of causal inference, and how does it relate to the ceteris paribus condition?\n",
    "\n",
    "- When a constant factor(1) and just coef for the treatment, we can get the how our treatment impacting the target variable which means if there is a difference, we can say there is a bias/confounding variables(especially if the factor lowered the ATE). \n",
    "\n",
    "How does randomized control trial (RCT) differ from regression analysis in addressing confounding bias, and why might RCT not always be feasible in real-world research scenarios?\n",
    "\n",
    "- RCT gives you treated and untreated equal, so there will be no bias. confounding variables are something we can never say we accounted for.\n",
    "- RCT is expensive (Patients with harmful pills)\n",
    "\n",
    "Why is the concept of omitted variable bias (OVB) crucial in the context of linear regression for causal inference, and how can causal graphs help in understanding the potential sources of bias in estimating causal effects?\n",
    "\n",
    "- if there is no bias in the omitted variables, if there is no impact on treatment from omitted variables.\n",
    "- Causal graph can provide some senses grapically if given variables are only proxy and if we ever miss some important variables that are confounding.\n"
   ]
  },
  {
   "cell_type": "code",
   "execution_count": null,
   "id": "da7e4999-ced8-46a6-ba67-537ff5df0bdc",
   "metadata": {},
   "outputs": [],
   "source": [
    "How does linear regression allow for the estimation of the average treatment effect (ATE) in causal inference studies, and what role does the dummy variable play in this estimation?\n",
    "\n",
    "Linear regression facilitates the estimation of the ATE by modeling the outcome variable as a function of the treatment and potentially other covariates. The dummy variable, typically coded as 0 for the control group and 1 for the treatment group, plays a crucial role in this process. It allows for the direct estimation of the treatment effect as the difference in predicted outcomes between the treatment and control groups. The coefficient of the dummy variable in the regression model represents the ATE, indicating the average difference in outcomes attributable to the treatment after controlling for other factors in the model.\n",
    "\n",
    "Why is it necessary to control for potential confounders when using linear regression to estimate causal relationships, and how does including these confounders in the regression model help mitigate bias?\n",
    "\n",
    "Controlling for potential confounders is necessary because these variables can influence both the treatment assignment and the outcome, potentially introducing bias into the estimation of the treatment effect. Including confounders in the regression model as covariates allows researchers to isolate the effect of the treatment from the effects of these other variables. This helps mitigate bias by ensuring that the estimated treatment effect is not confounded by differences in the covariates between the treatment and control groups. Essentially, it adjusts for the fact that the groups might have been different on these variables even before the treatment was applied.\n",
    "\n",
    "What is the significance of the \"partialling out\" interpretation in multivariate linear regression, especially in the context of causal inference, and how does it relate to the ceteris paribus condition?\n",
    "\n",
    "The \"partialling out\" interpretation in multivariate linear regression is significant because it allows for the estimation of the unique effect of a single independent variable (e.g., treatment) on the dependent variable (e.g., outcome), controlling for the influence of all other variables in the model. This is particularly important in causal inference, as it aligns with the ceteris paribus condition—holding all else constant. It means that the estimated coefficient of the treatment variable reflects the change in the outcome variable for a one-unit change in the treatment, assuming all other covariates remain constant. This provides a clearer and more accurate understanding of the causal relationship between the treatment and the outcome.\n",
    "\n",
    "How does randomized control trial (RCT) differ from regression analysis in addressing confounding bias, and why might RCT not always be feasible in real-world research scenarios?\n",
    "\n",
    "An RCT addresses confounding bias by randomly assigning participants to the treatment or control group, ensuring that, on average, all other variables are equally distributed across these groups. This randomization helps isolate the effect of the treatment from the effects of confounding variables. In contrast, regression analysis statistically controls for confounders by including them as covariates in the model. While RCT is considered the gold standard for establishing causality, it may not always be feasible due to ethical, logistical, or financial constraints. For example, it might be unethical or impractical to randomly assign individuals to receive a potentially harmful treatment or to withhold a potentially beneficial one. In such cases, observational studies with regression analysis can provide valuable insights, although with greater caution regarding causality.\n",
    "Why is the concept of omitted variable bias (OVB) crucial in the context of linear regression for causal inference, and how can causal graphs help in understanding the potential sources of bias in estimating causal effects?\n",
    "Omitted variable bias (OVB) occurs when a relevant variable that influences both the treatment and the outcome is not included in the regression model. This can lead to biased estimates of the treatment effect because the omitted variable can confound the relationship between the treatment and the outcome. Causal graphs, or directed acyclic graphs (DAGs), can help identify potential sources of OVB by visually representing the causal relationships among variables. By mapping out these relationships, researchers can identify variables that are likely to confound the treatment-outcome relationship if omitted from the analysis. Including these variables in the regression model can then reduce the risk of OVB and lead to more accurate estimates of causal effects."
   ]
  },
  {
   "cell_type": "code",
   "execution_count": 14,
   "id": "894bc6a7-a13a-4f13-8434-e2aeca927a88",
   "metadata": {},
   "outputs": [],
   "source": [
    "import pandas as pd\n",
    "import numpy as np\n",
    "df = pd.read_csv('wage_data.csv').dropna()"
   ]
  },
  {
   "cell_type": "code",
   "execution_count": 15,
   "id": "5753869d-461c-48f6-a310-eaaa56d2111f",
   "metadata": {},
   "outputs": [],
   "source": [
    "def regress(y, X): \n",
    "    return np.linalg.inv(X.T.dot(X)).dot(X.T.dot(y))\n"
   ]
  },
  {
   "cell_type": "code",
   "execution_count": 31,
   "id": "9daa6ec0-aa24-4c91-a30b-354391a700be",
   "metadata": {},
   "outputs": [
    {
     "data": {
      "text/plain": [
       "0.04114719101005263"
      ]
     },
     "execution_count": 31,
     "metadata": {},
     "output_type": "execute_result"
    }
   ],
   "source": [
    "controls = ['IQ', 'exper', 'tenure', 'age', 'married', 'black',\n",
    "            'south', 'urban', 'sibs', 'brthord', 'meduc', 'feduc']\n",
    "X = df[controls].assign(intercep=1)\n",
    "X1 = df[controls+['educ','lhwage']].assign(intercep=1)\n",
    "t = df[\"educ\"]\n",
    "y = df[\"lhwage\"]\n",
    "\n",
    "beta_aux = regress(t, X)\n",
    "t_tilde = t - X.dot(beta_aux)\n",
    "\n",
    "kappa = t_tilde.cov(y) / t_tilde.var()\n",
    "kappa"
   ]
  },
  {
   "cell_type": "code",
   "execution_count": 33,
   "id": "1f0affd3-56a7-4e52-b89c-e3bfa4eb84c1",
   "metadata": {},
   "outputs": [
    {
     "data": {
      "text/html": [
       "<table class=\"simpletable\">\n",
       "<tr>\n",
       "      <td></td>         <th>coef</th>     <th>std err</th>      <th>t</th>      <th>P>|t|</th>  <th>[0.025</th>    <th>0.975]</th>  \n",
       "</tr>\n",
       "<tr>\n",
       "  <th>Intercept</th> <td>    1.1156</td> <td>    0.232</td> <td>    4.802</td> <td> 0.000</td> <td>    0.659</td> <td>    1.572</td>\n",
       "</tr>\n",
       "<tr>\n",
       "  <th>educ</th>      <td>    0.0411</td> <td>    0.010</td> <td>    4.075</td> <td> 0.000</td> <td>    0.021</td> <td>    0.061</td>\n",
       "</tr>\n",
       "<tr>\n",
       "  <th>IQ</th>        <td>    0.0038</td> <td>    0.001</td> <td>    2.794</td> <td> 0.005</td> <td>    0.001</td> <td>    0.006</td>\n",
       "</tr>\n",
       "<tr>\n",
       "  <th>exper</th>     <td>    0.0153</td> <td>    0.005</td> <td>    3.032</td> <td> 0.003</td> <td>    0.005</td> <td>    0.025</td>\n",
       "</tr>\n",
       "<tr>\n",
       "  <th>tenure</th>    <td>    0.0094</td> <td>    0.003</td> <td>    2.836</td> <td> 0.005</td> <td>    0.003</td> <td>    0.016</td>\n",
       "</tr>\n",
       "<tr>\n",
       "  <th>age</th>       <td>    0.0086</td> <td>    0.006</td> <td>    1.364</td> <td> 0.173</td> <td>   -0.004</td> <td>    0.021</td>\n",
       "</tr>\n",
       "<tr>\n",
       "  <th>married</th>   <td>    0.1795</td> <td>    0.053</td> <td>    3.415</td> <td> 0.001</td> <td>    0.076</td> <td>    0.283</td>\n",
       "</tr>\n",
       "<tr>\n",
       "  <th>black</th>     <td>   -0.0801</td> <td>    0.063</td> <td>   -1.263</td> <td> 0.207</td> <td>   -0.205</td> <td>    0.044</td>\n",
       "</tr>\n",
       "<tr>\n",
       "  <th>south</th>     <td>   -0.0397</td> <td>    0.035</td> <td>   -1.129</td> <td> 0.259</td> <td>   -0.109</td> <td>    0.029</td>\n",
       "</tr>\n",
       "<tr>\n",
       "  <th>urban</th>     <td>    0.1926</td> <td>    0.036</td> <td>    5.418</td> <td> 0.000</td> <td>    0.123</td> <td>    0.262</td>\n",
       "</tr>\n",
       "<tr>\n",
       "  <th>sibs</th>      <td>    0.0065</td> <td>    0.009</td> <td>    0.722</td> <td> 0.470</td> <td>   -0.011</td> <td>    0.024</td>\n",
       "</tr>\n",
       "<tr>\n",
       "  <th>brthord</th>   <td>   -0.0080</td> <td>    0.013</td> <td>   -0.604</td> <td> 0.546</td> <td>   -0.034</td> <td>    0.018</td>\n",
       "</tr>\n",
       "<tr>\n",
       "  <th>meduc</th>     <td>    0.0089</td> <td>    0.007</td> <td>    1.265</td> <td> 0.206</td> <td>   -0.005</td> <td>    0.023</td>\n",
       "</tr>\n",
       "<tr>\n",
       "  <th>feduc</th>     <td>    0.0069</td> <td>    0.006</td> <td>    1.113</td> <td> 0.266</td> <td>   -0.005</td> <td>    0.019</td>\n",
       "</tr>\n",
       "</table>"
      ],
      "text/plain": [
       "<class 'statsmodels.iolib.table.SimpleTable'>"
      ]
     },
     "execution_count": 33,
     "metadata": {},
     "output_type": "execute_result"
    }
   ],
   "source": [
    "import statsmodels.formula.api as smf\n",
    "smf.ols('lhwage~educ + '+'+'.join(controls),data=X1).fit().summary().tables[1]"
   ]
  },
  {
   "cell_type": "code",
   "execution_count": 38,
   "id": "fcbed45c-c4f8-420a-ac58-33eae6b17aba",
   "metadata": {},
   "outputs": [
    {
     "data": {
      "text/html": [
       "<table class=\"simpletable\">\n",
       "<tr>\n",
       "      <td></td>         <th>coef</th>     <th>std err</th>      <th>t</th>      <th>P>|t|</th>  <th>[0.025</th>    <th>0.975]</th>  \n",
       "</tr>\n",
       "<tr>\n",
       "  <th>Intercept</th> <td>    2.3071</td> <td>    0.104</td> <td>   22.089</td> <td> 0.000</td> <td>    2.102</td> <td>    2.512</td>\n",
       "</tr>\n",
       "<tr>\n",
       "  <th>educ</th>      <td>    0.0536</td> <td>    0.008</td> <td>    7.114</td> <td> 0.000</td> <td>    0.039</td> <td>    0.068</td>\n",
       "</tr>\n",
       "</table>"
      ],
      "text/plain": [
       "<class 'statsmodels.iolib.table.SimpleTable'>"
      ]
     },
     "execution_count": 38,
     "metadata": {},
     "output_type": "execute_result"
    }
   ],
   "source": [
    "smf.ols('lhwage~educ ',data=df).fit().summary().tables[1]"
   ]
  },
  {
   "cell_type": "code",
   "execution_count": 41,
   "id": "5cbfa5d8-1aa9-458d-9e73-91fc14c0a7a6",
   "metadata": {},
   "outputs": [],
   "source": [
    "\n",
    "#-------------------------------\n",
    "\n",
    "\n",
    "import pandas as pd\n",
    "import numpy as np\n",
    "\n",
    "np.random.seed(42)\n",
    "\n",
    "\n",
    "data = pd.DataFrame({\n",
    "    'age': np.random.randint(18, 65, size=100),  # Age of individuals\n",
    "    'income': np.random.normal(50000, 15000, size=100),  # Annual income with some variation\n",
    "    'education_years': np.random.randint(12, 21, size=100),  # Years of education\n",
    "    'health_index': np.random.uniform(0, 1, size=100) * 100,  # Health index from 0 to 100\n",
    "    'employed': np.random.choice([0, 1], size=100)  # Employment status (0 = unemployed, 1 = employed)\n",
    "})\n",
    "\n",
    "data['income_post_training'] = data['income'] + np.where(data['employed'] == 1, np.random.normal(5000, 2000, size=100), 0)\n",
    "\n"
   ]
  },
  {
   "cell_type": "code",
   "execution_count": 42,
   "id": "0e97bcc3-818f-4aeb-8dc2-ad79cda9be9a",
   "metadata": {},
   "outputs": [
    {
     "data": {
      "text/html": [
       "<div>\n",
       "<style scoped>\n",
       "    .dataframe tbody tr th:only-of-type {\n",
       "        vertical-align: middle;\n",
       "    }\n",
       "\n",
       "    .dataframe tbody tr th {\n",
       "        vertical-align: top;\n",
       "    }\n",
       "\n",
       "    .dataframe thead th {\n",
       "        text-align: right;\n",
       "    }\n",
       "</style>\n",
       "<table border=\"1\" class=\"dataframe\">\n",
       "  <thead>\n",
       "    <tr style=\"text-align: right;\">\n",
       "      <th></th>\n",
       "      <th>age</th>\n",
       "      <th>income</th>\n",
       "      <th>education_years</th>\n",
       "      <th>health_index</th>\n",
       "      <th>employed</th>\n",
       "      <th>income_post_training</th>\n",
       "    </tr>\n",
       "  </thead>\n",
       "  <tbody>\n",
       "    <tr>\n",
       "      <th>0</th>\n",
       "      <td>56</td>\n",
       "      <td>59544.576625</td>\n",
       "      <td>20</td>\n",
       "      <td>41.978086</td>\n",
       "      <td>1</td>\n",
       "      <td>63859.398889</td>\n",
       "    </tr>\n",
       "    <tr>\n",
       "      <th>1</th>\n",
       "      <td>46</td>\n",
       "      <td>36399.189971</td>\n",
       "      <td>15</td>\n",
       "      <td>25.620694</td>\n",
       "      <td>1</td>\n",
       "      <td>41897.819055</td>\n",
       "    </tr>\n",
       "    <tr>\n",
       "      <th>2</th>\n",
       "      <td>32</td>\n",
       "      <td>57140.638811</td>\n",
       "      <td>12</td>\n",
       "      <td>61.151371</td>\n",
       "      <td>0</td>\n",
       "      <td>57140.638811</td>\n",
       "    </tr>\n",
       "    <tr>\n",
       "      <th>3</th>\n",
       "      <td>60</td>\n",
       "      <td>69554.919026</td>\n",
       "      <td>13</td>\n",
       "      <td>8.159418</td>\n",
       "      <td>0</td>\n",
       "      <td>69554.919026</td>\n",
       "    </tr>\n",
       "    <tr>\n",
       "      <th>4</th>\n",
       "      <td>25</td>\n",
       "      <td>53173.805185</td>\n",
       "      <td>12</td>\n",
       "      <td>0.518486</td>\n",
       "      <td>1</td>\n",
       "      <td>59951.773773</td>\n",
       "    </tr>\n",
       "    <tr>\n",
       "      <th>...</th>\n",
       "      <td>...</td>\n",
       "      <td>...</td>\n",
       "      <td>...</td>\n",
       "      <td>...</td>\n",
       "      <td>...</td>\n",
       "      <td>...</td>\n",
       "    </tr>\n",
       "    <tr>\n",
       "      <th>95</th>\n",
       "      <td>24</td>\n",
       "      <td>63099.754536</td>\n",
       "      <td>12</td>\n",
       "      <td>82.042684</td>\n",
       "      <td>0</td>\n",
       "      <td>63099.754536</td>\n",
       "    </tr>\n",
       "    <tr>\n",
       "      <th>96</th>\n",
       "      <td>26</td>\n",
       "      <td>53084.752010</td>\n",
       "      <td>20</td>\n",
       "      <td>65.148477</td>\n",
       "      <td>0</td>\n",
       "      <td>53084.752010</td>\n",
       "    </tr>\n",
       "    <tr>\n",
       "      <th>97</th>\n",
       "      <td>41</td>\n",
       "      <td>28347.749725</td>\n",
       "      <td>17</td>\n",
       "      <td>20.668436</td>\n",
       "      <td>1</td>\n",
       "      <td>32495.685047</td>\n",
       "    </tr>\n",
       "    <tr>\n",
       "      <th>98</th>\n",
       "      <td>18</td>\n",
       "      <td>34584.337039</td>\n",
       "      <td>18</td>\n",
       "      <td>27.396113</td>\n",
       "      <td>0</td>\n",
       "      <td>34584.337039</td>\n",
       "    </tr>\n",
       "    <tr>\n",
       "      <th>99</th>\n",
       "      <td>61</td>\n",
       "      <td>61118.609526</td>\n",
       "      <td>18</td>\n",
       "      <td>21.458912</td>\n",
       "      <td>0</td>\n",
       "      <td>61118.609526</td>\n",
       "    </tr>\n",
       "  </tbody>\n",
       "</table>\n",
       "<p>100 rows × 6 columns</p>\n",
       "</div>"
      ],
      "text/plain": [
       "    age        income  education_years  health_index  employed  \\\n",
       "0    56  59544.576625               20     41.978086         1   \n",
       "1    46  36399.189971               15     25.620694         1   \n",
       "2    32  57140.638811               12     61.151371         0   \n",
       "3    60  69554.919026               13      8.159418         0   \n",
       "4    25  53173.805185               12      0.518486         1   \n",
       "..  ...           ...              ...           ...       ...   \n",
       "95   24  63099.754536               12     82.042684         0   \n",
       "96   26  53084.752010               20     65.148477         0   \n",
       "97   41  28347.749725               17     20.668436         1   \n",
       "98   18  34584.337039               18     27.396113         0   \n",
       "99   61  61118.609526               18     21.458912         0   \n",
       "\n",
       "    income_post_training  \n",
       "0           63859.398889  \n",
       "1           41897.819055  \n",
       "2           57140.638811  \n",
       "3           69554.919026  \n",
       "4           59951.773773  \n",
       "..                   ...  \n",
       "95          63099.754536  \n",
       "96          53084.752010  \n",
       "97          32495.685047  \n",
       "98          34584.337039  \n",
       "99          61118.609526  \n",
       "\n",
       "[100 rows x 6 columns]"
      ]
     },
     "execution_count": 42,
     "metadata": {},
     "output_type": "execute_result"
    }
   ],
   "source": [
    "data"
   ]
  },
  {
   "cell_type": "markdown",
   "id": "71a4fc4e-f896-4b90-b0bd-bc1fcd065ff1",
   "metadata": {},
   "source": [
    "\n",
    "Practice Questions\n",
    "\n",
    "Calculate the Average Treatment Effect (ATE) of the training program on income.\n",
    "- 2503\n",
    "\n",
    "\n",
    "What is the average income for those who were employed vs. those who were not?\n",
    "\n",
    "- 51957.362504, 54460.945837\n",
    "\n",
    "Does higher education correlate with higher income in this dataset?\n",
    "- Yes, the orthogonality gives a lot larger than 0.\n",
    "Is there a significant difference in the health index between employed and unemployed individuals?\n",
    "\n",
    "Predict post-training income using a linear regression model with 'age', 'education_years', 'health_index', and 'employed' as predictors. What is the coefficient for 'employed', and how does it relate to the ATE calculated in question 1?\n",
    "- 1905. This decreased a lot more with other variables in our bigger model. This means including the above question we have omitted/confounding variables that have significant impact on our model, so we cannot conclude employed(training?) is causal."
   ]
  },
  {
   "cell_type": "code",
   "execution_count": 57,
   "id": "56f3f7f6-cb37-4b2a-a058-209c41794ef8",
   "metadata": {},
   "outputs": [
    {
     "data": {
      "text/html": [
       "<table class=\"simpletable\">\n",
       "<tr>\n",
       "      <td></td>         <th>coef</th>     <th>std err</th>      <th>t</th>      <th>P>|t|</th>  <th>[0.025</th>    <th>0.975]</th>  \n",
       "</tr>\n",
       "<tr>\n",
       "  <th>Intercept</th> <td> 5.196e+04</td> <td> 2024.300</td> <td>   25.667</td> <td> 0.000</td> <td> 4.79e+04</td> <td>  5.6e+04</td>\n",
       "</tr>\n",
       "<tr>\n",
       "  <th>employed</th>  <td> 2503.5833</td> <td> 3051.747</td> <td>    0.820</td> <td> 0.414</td> <td>-3552.510</td> <td> 8559.676</td>\n",
       "</tr>\n",
       "</table>"
      ],
      "text/plain": [
       "<class 'statsmodels.iolib.table.SimpleTable'>"
      ]
     },
     "execution_count": 57,
     "metadata": {},
     "output_type": "execute_result"
    }
   ],
   "source": [
    "smf.ols('income_post_training~employed',data=data).fit().summary().tables[1]"
   ]
  },
  {
   "cell_type": "code",
   "execution_count": 58,
   "id": "dae29a58-10ad-41ca-b579-0cbdb6c10135",
   "metadata": {},
   "outputs": [
    {
     "data": {
      "text/plain": [
       "employed\n",
       "0    51957.362504\n",
       "1    54460.945837\n",
       "Name: income_post_training, dtype: float64"
      ]
     },
     "execution_count": 58,
     "metadata": {},
     "output_type": "execute_result"
    }
   ],
   "source": [
    "data.groupby('employed')['income_post_training'].mean()"
   ]
  },
  {
   "cell_type": "code",
   "execution_count": 59,
   "id": "00d7ab71-968d-4dd7-8420-a8f57a3a7f9e",
   "metadata": {},
   "outputs": [
    {
     "data": {
      "text/plain": [
       "array([3312.90923662])"
      ]
     },
     "execution_count": 59,
     "metadata": {},
     "output_type": "execute_result"
    }
   ],
   "source": [
    "beta = regress(data['income_post_training'], data[['education_years']])\n",
    "beta"
   ]
  },
  {
   "cell_type": "code",
   "execution_count": 60,
   "id": "560623a8-7ebe-4a54-8a1d-465575c2edb6",
   "metadata": {},
   "outputs": [
    {
     "name": "stdout",
     "output_type": "stream",
     "text": [
      "Orthogonality imply that the dot product is zero: [-1.35041773e-08]\n"
     ]
    },
    {
     "data": {
      "text/html": [
       "<div>\n",
       "<style scoped>\n",
       "    .dataframe tbody tr th:only-of-type {\n",
       "        vertical-align: middle;\n",
       "    }\n",
       "\n",
       "    .dataframe tbody tr th {\n",
       "        vertical-align: top;\n",
       "    }\n",
       "\n",
       "    .dataframe thead th {\n",
       "        text-align: right;\n",
       "    }\n",
       "</style>\n",
       "<table border=\"1\" class=\"dataframe\">\n",
       "  <thead>\n",
       "    <tr style=\"text-align: right;\">\n",
       "      <th></th>\n",
       "      <th>education_years</th>\n",
       "      <th>e</th>\n",
       "    </tr>\n",
       "  </thead>\n",
       "  <tbody>\n",
       "    <tr>\n",
       "      <th>education_years</th>\n",
       "      <td>1.000000</td>\n",
       "      <td>-0.449365</td>\n",
       "    </tr>\n",
       "    <tr>\n",
       "      <th>e</th>\n",
       "      <td>-0.449365</td>\n",
       "      <td>1.000000</td>\n",
       "    </tr>\n",
       "  </tbody>\n",
       "</table>\n",
       "</div>"
      ],
      "text/plain": [
       "                 education_years         e\n",
       "education_years         1.000000 -0.449365\n",
       "e                      -0.449365  1.000000"
      ]
     },
     "execution_count": 60,
     "metadata": {},
     "output_type": "execute_result"
    }
   ],
   "source": [
    "e = data['income_post_training'] - data[['education_years']].dot(beta)\n",
    "print(\"Orthogonality imply that the dot product is zero:\", np.dot(e, data[['education_years']]))\n",
    "data[['education_years']].assign(e=e).corr()"
   ]
  },
  {
   "cell_type": "code",
   "execution_count": 61,
   "id": "f71b6d5e-7dda-4e69-9b0e-69018bcb0454",
   "metadata": {},
   "outputs": [
    {
     "data": {
      "text/html": [
       "<table class=\"simpletable\">\n",
       "<tr>\n",
       "         <td></td>            <th>coef</th>     <th>std err</th>      <th>t</th>      <th>P>|t|</th>  <th>[0.025</th>    <th>0.975]</th>  \n",
       "</tr>\n",
       "<tr>\n",
       "  <th>Intercept</th>       <td> 4.775e+04</td> <td> 1.01e+04</td> <td>    4.723</td> <td> 0.000</td> <td> 2.77e+04</td> <td> 6.78e+04</td>\n",
       "</tr>\n",
       "<tr>\n",
       "  <th>age</th>             <td>   17.4976</td> <td>  110.682</td> <td>    0.158</td> <td> 0.875</td> <td> -202.235</td> <td>  237.230</td>\n",
       "</tr>\n",
       "<tr>\n",
       "  <th>education_years</th> <td>  431.3614</td> <td>  581.286</td> <td>    0.742</td> <td> 0.460</td> <td> -722.637</td> <td> 1585.359</td>\n",
       "</tr>\n",
       "<tr>\n",
       "  <th>health_index</th>    <td>  -63.4558</td> <td>   50.829</td> <td>   -1.248</td> <td> 0.215</td> <td> -164.363</td> <td>   37.452</td>\n",
       "</tr>\n",
       "<tr>\n",
       "  <th>employed</th>        <td> 1905.3979</td> <td> 3103.469</td> <td>    0.614</td> <td> 0.541</td> <td>-4255.768</td> <td> 8066.564</td>\n",
       "</tr>\n",
       "</table>"
      ],
      "text/plain": [
       "<class 'statsmodels.iolib.table.SimpleTable'>"
      ]
     },
     "execution_count": 61,
     "metadata": {},
     "output_type": "execute_result"
    }
   ],
   "source": [
    "smf.ols('income_post_training~age + education_years + health_index + employed',data=data).fit().summary().tables[1]"
   ]
  }
 ],
 "metadata": {
  "kernelspec": {
   "display_name": "Python 3 (ipykernel)",
   "language": "python",
   "name": "python3"
  },
  "language_info": {
   "codemirror_mode": {
    "name": "ipython",
    "version": 3
   },
   "file_extension": ".py",
   "mimetype": "text/x-python",
   "name": "python",
   "nbconvert_exporter": "python",
   "pygments_lexer": "ipython3",
   "version": "3.9.19"
  }
 },
 "nbformat": 4,
 "nbformat_minor": 5
}
